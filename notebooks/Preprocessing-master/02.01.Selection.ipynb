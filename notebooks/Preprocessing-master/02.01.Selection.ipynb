{
 "cells": [
  {
   "cell_type": "code",
   "execution_count": 1,
   "metadata": {},
   "outputs": [],
   "source": [
    "import pandas as pd\n",
    "import os\n",
    "\n",
    "def load_hotel_reserve():\n",
    "  customer_tb = pd.read_csv('../awesomebook-master/data/customer.csv')\n",
    "  hotel_tb = pd.read_csv('../awesomebook-master/data/hotel.csv')\n",
    "  reserve_tb = pd.read_csv('../awesomebook-master/data/reserve.csv')\n",
    "  return customer_tb, hotel_tb, reserve_tb\n",
    "\n",
    "\n",
    "def load_holiday_mst():\n",
    "  holiday_tb = pd.read_csv('../awesomebook-master/data/holiday_mst.csv',\n",
    "                           index_col=False)\n",
    "  return holiday_tb\n",
    "\n",
    "\n",
    "def load_production():\n",
    "  production_tb = pd.read_csv('../awesomebook-master/data/production.csv')\n",
    "  return production_tb\n",
    "\n",
    "\n",
    "def load_production_missing_num():\n",
    "  production_tb = pd.read_csv('../awesomebook-master/data/production_missing_num.csv')\n",
    "  return production_tb\n",
    "\n",
    "\n",
    "def load_production_missing_category():\n",
    "  production_tb = pd.read_csv('../awesomebook-master/data/production_missing_category.csv')\n",
    "  return production_tb\n",
    "\n",
    "\n",
    "def load_monthly_index():\n",
    "  monthly_index_tb = \\\n",
    "    pd.read_csv('../awesomebook-master/data/monthly_index.csv')\n",
    "  return monthly_index_tb\n",
    "\n",
    "\n",
    "def load_meros_txt():\n",
    "  with open('../awesomebook-master/data/txt/meros.txt', 'r') as f:\n",
    "    meros = f.read()\n",
    "    f.close()\n",
    "  return meros\n"
   ]
  },
  {
   "cell_type": "code",
   "execution_count": 2,
   "metadata": {},
   "outputs": [
    {
     "name": "stdout",
     "output_type": "stream",
     "text": [
      "     reserve_id hotel_id customer_id     reserve_datetime checkin_date  \\\n",
      "0            r1     h_75         c_1  2016-03-06 13:09:42   2016-03-26   \n",
      "1            r2    h_219         c_1  2016-07-16 23:39:55   2016-07-20   \n",
      "2            r3    h_179         c_1  2016-09-24 10:03:17   2016-10-19   \n",
      "3            r4    h_214         c_1  2017-03-08 03:20:10   2017-03-29   \n",
      "4            r5     h_16         c_1  2017-09-05 19:50:37   2017-09-22   \n",
      "...         ...      ...         ...                  ...          ...   \n",
      "4025      r4026    h_129       c_999  2017-06-27 23:00:02   2017-07-10   \n",
      "4026      r4027     h_97       c_999  2017-09-29 05:24:57   2017-10-09   \n",
      "4027      r4028     h_27       c_999  2018-03-14 05:01:45   2018-04-02   \n",
      "4028      r4029     h_48      c_1000  2016-04-16 15:20:17   2016-05-10   \n",
      "4029      r4030    h_117      c_1000  2016-06-06 08:16:51   2016-07-06   \n",
      "\n",
      "     checkin_time checkout_date  people_num  total_price  \n",
      "0        10:00:00    2016-03-29           4        97200  \n",
      "1        11:30:00    2016-07-21           2        20600  \n",
      "2        09:00:00    2016-10-22           2        33600  \n",
      "3        11:00:00    2017-03-30           4       194400  \n",
      "4        10:30:00    2017-09-23           3        68100  \n",
      "...           ...           ...         ...          ...  \n",
      "4025     09:30:00    2017-07-11           2        16000  \n",
      "4026     10:30:00    2017-10-10           2        41800  \n",
      "4027     11:30:00    2018-04-04           2        74800  \n",
      "4028     09:30:00    2016-05-13           4       540000  \n",
      "4029     09:00:00    2016-07-09           1        44100  \n",
      "\n",
      "[4030 rows x 9 columns]\n"
     ]
    }
   ],
   "source": [
    "customer_tb, hotel_tb, reserve_tb = load_hotel_reserve()\n",
    "\n",
    "print(reserve_tb)\n",
    "\n",
    "\n"
   ]
  },
  {
   "cell_type": "code",
   "execution_count": null,
   "metadata": {},
   "outputs": [],
   "source": []
  }
 ],
 "metadata": {
  "kernelspec": {
   "display_name": "Python 3",
   "language": "python",
   "name": "python3"
  },
  "language_info": {
   "codemirror_mode": {
    "name": "ipython",
    "version": 3
   },
   "file_extension": ".py",
   "mimetype": "text/x-python",
   "name": "python",
   "nbconvert_exporter": "python",
   "pygments_lexer": "ipython3",
   "version": "3.12.1"
  }
 },
 "nbformat": 4,
 "nbformat_minor": 2
}
